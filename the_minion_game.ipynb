{
  "nbformat": 4,
  "nbformat_minor": 0,
  "metadata": {
    "colab": {
      "name": "the-minion-game.ipynb",
      "provenance": [],
      "collapsed_sections": [],
      "authorship_tag": "ABX9TyPn5h1vutqVouRHDGVC8irm"
    },
    "kernelspec": {
      "name": "python3",
      "display_name": "Python 3"
    }
  },
  "cells": [
    {
      "cell_type": "markdown",
      "metadata": {
        "id": "2YuOUT9I1qDZ"
      },
      "source": [
        "# The Minion Game\r\n",
        "\r\n",
        "Kevin and Stuart want to play the '**The Minion Game**'.\r\n",
        "\r\n",
        "## Game Rules\r\n",
        "\r\n",
        "Both players are given the same string, ***S***.\r\n",
        "\r\n",
        "Both players have to make substrings using the letters of the string ***S***.\r\n",
        "\r\n",
        "Stuart has to make words starting with consonants.\r\n",
        "\r\n",
        "Kevin has to make words starting with vowels.\r\n",
        "\r\n",
        "The game ends when both players have made all possible substrings.\r\n",
        "\r\n",
        "## Scoring\r\n",
        "\r\n",
        "A player gets +1 point for each occurrence of the substring in the string ***S***.\r\n",
        "\r\n",
        "For Example:\r\n",
        "\r\n",
        "String ***S*** = BANANA\r\n",
        "\r\n",
        "Kevin's vowel beginning word = ANA\r\n",
        "\r\n",
        "Here, ANA occurs twice in BANANA. Hence, Kevin will get 2 Points.\r\n",
        "\r\n",
        "For better understanding, see the image below:\r\n",
        "\r\n",
        "![image.png](https://bit.ly/3t9RD7V)\r\n",
        "\r\n",
        "Your task is to determine the winner of the game and their score.\r\n",
        "\r\n",
        "## Input Format\r\n",
        "\r\n",
        "A single line of input containing the string ***S***.\r\n",
        "\r\n",
        "**Note**: The string ***S*** will contain only uppercase letters: [A-Z].\r\n",
        "\r\n",
        "## Constraints\r\n",
        "0 < len(S) ≤ 10^6\r\n",
        "\r\n",
        "## Output Format\r\n",
        "\r\n",
        "Print one line: the name of the winner and their score separated by a space.\r\n",
        "\r\n",
        "If the game is a draw, print Draw.\r\n",
        "\r\n",
        "## Sample Input\r\n",
        "\r\n",
        "    BANANA\r\n",
        "\r\n",
        "##Sample Output\r\n",
        "\r\n",
        "    Stuart 12\r\n",
        "\r\n",
        "**Note**:\r\n",
        "Vowels are only defined as ***AEIOU***. In this problem, ***Y*** is not considered a vowel."
      ]
    },
    {
      "cell_type": "code",
      "metadata": {
        "id": "bCOMcJnG1SUa"
      },
      "source": [
        "def minion_game(string):\r\n",
        "    vowels_list = ['A','E','I','O','U']\r\n",
        "    consonants = 0\r\n",
        "    vowels = 0\r\n",
        " \r\n",
        "    n = len(string)\r\n",
        "    for i, l in enumerate(string):\r\n",
        "        if l in vowels_list:\r\n",
        "            vowels += n-i\r\n",
        "        else:\r\n",
        "            consonants += n-i\r\n",
        " \r\n",
        "    if vowels == consonants:\r\n",
        "        print(\"Draw\")\r\n",
        "    elif vowels > consonants:\r\n",
        "        print(\"Kevin {}\".format(vowels))\r\n",
        "    else:\r\n",
        "        print(\"Stuart {}\".format(consonants))\r\n",
        "\r\n",
        "if __name__ == '__main__':\r\n",
        "    s = input()\r\n",
        "    minion_game(s)"
      ],
      "execution_count": null,
      "outputs": []
    }
  ]
}