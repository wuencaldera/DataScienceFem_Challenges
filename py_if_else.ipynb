{
  "nbformat": 4,
  "nbformat_minor": 0,
  "metadata": {
    "colab": {
      "name": "py-if-else.ipynb",
      "provenance": [],
      "authorship_tag": "ABX9TyMeAtx5YJ309N5MH1FViXOB",
      "include_colab_link": true
    },
    "kernelspec": {
      "name": "python3",
      "display_name": "Python 3"
    }
  },
  "cells": [
    {
      "cell_type": "markdown",
      "metadata": {
        "id": "view-in-github",
        "colab_type": "text"
      },
      "source": [
        "<a href=\"https://colab.research.google.com/github/wuencaldera/DataScienceFem_Challenges/blob/main/py_if_else.ipynb\" target=\"_parent\"><img src=\"https://colab.research.google.com/assets/colab-badge.svg\" alt=\"Open In Colab\"/></a>"
      ]
    },
    {
      "cell_type": "markdown",
      "metadata": {
        "id": "ySqIok81qEUE"
      },
      "source": [
        "# Task\r\n",
        "Given an integer, n, perform the following conditional actions:\r\n",
        "\r\n",
        "*   If **n** is odd, print `Weird`\r\n",
        "*   If **n** is even and in the inclusive range of **2** to **5**, print `Not Weird`\r\n",
        "*   If **n** is even and in the inclusive range of **6** to **20**, print `Weird`\r\n",
        "*   If **n** is even and greater than **20**, print `Not Weird`\r\n",
        "\r\n",
        "# Input Format\r\n",
        "\r\n",
        "A single line containing a positive integer, **n**.\r\n",
        "\r\n",
        "# Constraints\r\n",
        "1 ≤ n ≤ 100\r\n",
        "\r\n",
        "# Output Format\r\n",
        "\r\n",
        "Print `Weird` if the number is weird. Otherwise, print `Not Weird`.\r\n",
        "\r\n",
        "# Sample Input 0\r\n",
        "`3`\r\n",
        "\r\n",
        "# Sample Output 0\r\n",
        "`Weird`\r\n",
        "\r\n",
        "# Explanation 0\r\n",
        "**n= 3**\r\n",
        "**n** is odd and odd numbers are weird, so print `Weird`.\r\n",
        "\r\n",
        "# Sample Input 1\r\n",
        "`24`\r\n",
        "\r\n",
        "# Sample Output 1\r\n",
        "`Not Weird`\r\n",
        "\r\n",
        "# Explanation 1\r\n",
        "**n= 24**\r\n",
        "**n > 20** and **n** is even, so it is not weird."
      ]
    },
    {
      "cell_type": "code",
      "metadata": {
        "colab": {
          "base_uri": "https://localhost:8080/"
        },
        "id": "WSUJg1I1iIiF",
        "outputId": "85152ef0-9d1d-4f54-e830-7bfa3f03bd9d"
      },
      "source": [
        "#!/bin/python3\r\n",
        "\r\n",
        "import math\r\n",
        "import os\r\n",
        "import random\r\n",
        "import re\r\n",
        "import sys\r\n",
        "\r\n",
        "\r\n",
        "\r\n",
        "if __name__ == '__main__':\r\n",
        "    n = int(input().strip())\r\n",
        "    if n % 2 == 1:\r\n",
        "        print(\"Weird\")\r\n",
        "    elif n % 2 == 0 and 2 <= n <= 5:\r\n",
        "        print(\"Not Weird\")\r\n",
        "    elif n % 2 == 0 and 6 <= n <= 20:\r\n",
        "        print(\"Weird\")\r\n",
        "    else:\r\n",
        "        print(\"Not Weird\")"
      ],
      "execution_count": 1,
      "outputs": [
        {
          "output_type": "stream",
          "text": [
            "36\n",
            "Not Weird\n"
          ],
          "name": "stdout"
        }
      ]
    }
  ]
}